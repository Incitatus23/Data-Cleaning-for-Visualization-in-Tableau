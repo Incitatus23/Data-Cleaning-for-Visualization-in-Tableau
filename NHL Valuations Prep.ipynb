{
 "cells": [
  {
   "cell_type": "code",
   "execution_count": 1,
   "id": "e5612a80",
   "metadata": {},
   "outputs": [],
   "source": [
    "import pandas as pd\n",
    "import numpy as np\n",
    "\n",
    "value = pd.read_csv(\"nhl-logos.csv\")"
   ]
  },
  {
   "cell_type": "code",
   "execution_count": 19,
   "id": "0174be47",
   "metadata": {},
   "outputs": [
    {
     "data": {
      "text/html": [
       "<div>\n",
       "<style scoped>\n",
       "    .dataframe tbody tr th:only-of-type {\n",
       "        vertical-align: middle;\n",
       "    }\n",
       "\n",
       "    .dataframe tbody tr th {\n",
       "        vertical-align: top;\n",
       "    }\n",
       "\n",
       "    .dataframe thead th {\n",
       "        text-align: right;\n",
       "    }\n",
       "</style>\n",
       "<table border=\"1\" class=\"dataframe\">\n",
       "  <thead>\n",
       "    <tr style=\"text-align: right;\">\n",
       "      <th></th>\n",
       "      <th>Year</th>\n",
       "      <th>City</th>\n",
       "      <th>Valuation</th>\n",
       "      <th>Mascot</th>\n",
       "      <th>espn_logo</th>\n",
       "    </tr>\n",
       "  </thead>\n",
       "  <tbody>\n",
       "    <tr>\n",
       "      <th>0</th>\n",
       "      <td>2022.0</td>\n",
       "      <td>CAR</td>\n",
       "      <td>640,000,000</td>\n",
       "      <td>Hurricanes</td>\n",
       "      <td>https://a.espncdn.com/i/teamlogos/nhl/500/car.png</td>\n",
       "    </tr>\n",
       "    <tr>\n",
       "      <th>1</th>\n",
       "      <td>2022.0</td>\n",
       "      <td>CHI</td>\n",
       "      <td>1,500,000</td>\n",
       "      <td>Blackhawks</td>\n",
       "      <td>https://a.espncdn.com/i/teamlogos/nhl/500/chi.png</td>\n",
       "    </tr>\n",
       "    <tr>\n",
       "      <th>2</th>\n",
       "      <td>2022.0</td>\n",
       "      <td>CBJ</td>\n",
       "      <td>620,000,000</td>\n",
       "      <td>Blue Jackets</td>\n",
       "      <td>https://a.espncdn.com/i/teamlogos/nhl/500/cbj.png</td>\n",
       "    </tr>\n",
       "    <tr>\n",
       "      <th>3</th>\n",
       "      <td>2022.0</td>\n",
       "      <td>DAL</td>\n",
       "      <td>925,000,000</td>\n",
       "      <td>Stars</td>\n",
       "      <td>https://a.espncdn.com/i/teamlogos/nhl/500/dal.png</td>\n",
       "    </tr>\n",
       "    <tr>\n",
       "      <th>4</th>\n",
       "      <td>2022.0</td>\n",
       "      <td>DET</td>\n",
       "      <td>1,030,000,00</td>\n",
       "      <td>Red Wings</td>\n",
       "      <td>https://a.espncdn.com/i/teamlogos/nhl/500/det.png</td>\n",
       "    </tr>\n",
       "  </tbody>\n",
       "</table>\n",
       "</div>"
      ],
      "text/plain": [
       "     Year City     Valuation        Mascot  \\\n",
       "0  2022.0  CAR   640,000,000    Hurricanes   \n",
       "1  2022.0  CHI     1,500,000    Blackhawks   \n",
       "2  2022.0  CBJ   620,000,000  Blue Jackets   \n",
       "3  2022.0  DAL   925,000,000         Stars   \n",
       "4  2022.0  DET  1,030,000,00     Red Wings   \n",
       "\n",
       "                                           espn_logo  \n",
       "0  https://a.espncdn.com/i/teamlogos/nhl/500/car.png  \n",
       "1  https://a.espncdn.com/i/teamlogos/nhl/500/chi.png  \n",
       "2  https://a.espncdn.com/i/teamlogos/nhl/500/cbj.png  \n",
       "3  https://a.espncdn.com/i/teamlogos/nhl/500/dal.png  \n",
       "4  https://a.espncdn.com/i/teamlogos/nhl/500/det.png  "
      ]
     },
     "execution_count": 19,
     "metadata": {},
     "output_type": "execute_result"
    }
   ],
   "source": [
    "value.head()"
   ]
  },
  {
   "cell_type": "code",
   "execution_count": 20,
   "id": "65f2977c",
   "metadata": {},
   "outputs": [
    {
     "name": "stdout",
     "output_type": "stream",
     "text": [
      "<class 'pandas.core.frame.DataFrame'>\n",
      "RangeIndex: 97 entries, 0 to 96\n",
      "Data columns (total 5 columns):\n",
      " #   Column     Non-Null Count  Dtype  \n",
      "---  ------     --------------  -----  \n",
      " 0   Year       94 non-null     float64\n",
      " 1   City       97 non-null     object \n",
      " 2   Valuation  93 non-null     object \n",
      " 3   Mascot     97 non-null     object \n",
      " 4   espn_logo  97 non-null     object \n",
      "dtypes: float64(1), object(4)\n",
      "memory usage: 3.9+ KB\n"
     ]
    }
   ],
   "source": [
    "value.info()"
   ]
  },
  {
   "cell_type": "code",
   "execution_count": 21,
   "id": "29c50690",
   "metadata": {},
   "outputs": [],
   "source": [
    "value.dropna(axis=0, inplace=True)"
   ]
  },
  {
   "cell_type": "code",
   "execution_count": 22,
   "id": "8fb77e56",
   "metadata": {},
   "outputs": [],
   "source": [
    "value[\"Year\"] = value[\"Year\"].astype(int)"
   ]
  },
  {
   "cell_type": "code",
   "execution_count": 23,
   "id": "12772d13",
   "metadata": {},
   "outputs": [
    {
     "name": "stdout",
     "output_type": "stream",
     "text": [
      "<class 'pandas.core.frame.DataFrame'>\n",
      "Int64Index: 93 entries, 0 to 95\n",
      "Data columns (total 5 columns):\n",
      " #   Column     Non-Null Count  Dtype \n",
      "---  ------     --------------  ----- \n",
      " 0   Year       93 non-null     int32 \n",
      " 1   City       93 non-null     object\n",
      " 2   Valuation  93 non-null     object\n",
      " 3   Mascot     93 non-null     object\n",
      " 4   espn_logo  93 non-null     object\n",
      "dtypes: int32(1), object(4)\n",
      "memory usage: 4.0+ KB\n"
     ]
    }
   ],
   "source": [
    "value.info()"
   ]
  },
  {
   "cell_type": "code",
   "execution_count": 24,
   "id": "05896c42",
   "metadata": {},
   "outputs": [],
   "source": [
    "value2 = value.copy()"
   ]
  },
  {
   "cell_type": "code",
   "execution_count": 26,
   "id": "617c9669",
   "metadata": {},
   "outputs": [],
   "source": [
    "value2[\"Valuation\"] = value2[\"Valuation\"].str.replace(\",\", \"\")"
   ]
  },
  {
   "cell_type": "code",
   "execution_count": 28,
   "id": "4bedf054",
   "metadata": {},
   "outputs": [],
   "source": [
    "value2[\"Valuation\"] = value2[\"Valuation\"].astype(np.int64)"
   ]
  },
  {
   "cell_type": "code",
   "execution_count": 20,
   "id": "97c9f26b",
   "metadata": {},
   "outputs": [],
   "source": [
    "value2.to_csv(\"valuation.csv\")"
   ]
  },
  {
   "cell_type": "code",
   "execution_count": 29,
   "id": "9050c3d2",
   "metadata": {},
   "outputs": [],
   "source": [
    "worth = pd.read_csv(\"valuation.csv\")"
   ]
  },
  {
   "cell_type": "code",
   "execution_count": 30,
   "id": "4c57dfd1",
   "metadata": {},
   "outputs": [],
   "source": [
    "worth[\"Valuation\"] = worth[\"Valuation\"].str.replace(\",\", \"\")"
   ]
  },
  {
   "cell_type": "code",
   "execution_count": 31,
   "id": "d772f6f4",
   "metadata": {},
   "outputs": [
    {
     "data": {
      "text/html": [
       "<div>\n",
       "<style scoped>\n",
       "    .dataframe tbody tr th:only-of-type {\n",
       "        vertical-align: middle;\n",
       "    }\n",
       "\n",
       "    .dataframe tbody tr th {\n",
       "        vertical-align: top;\n",
       "    }\n",
       "\n",
       "    .dataframe thead th {\n",
       "        text-align: right;\n",
       "    }\n",
       "</style>\n",
       "<table border=\"1\" class=\"dataframe\">\n",
       "  <thead>\n",
       "    <tr style=\"text-align: right;\">\n",
       "      <th></th>\n",
       "      <th>Unnamed: 0</th>\n",
       "      <th>Year</th>\n",
       "      <th>City</th>\n",
       "      <th>Valuation</th>\n",
       "      <th>Mascot</th>\n",
       "      <th>espn_logo</th>\n",
       "    </tr>\n",
       "  </thead>\n",
       "  <tbody>\n",
       "    <tr>\n",
       "      <th>0</th>\n",
       "      <td>0</td>\n",
       "      <td>2022</td>\n",
       "      <td>CAR</td>\n",
       "      <td>640000000</td>\n",
       "      <td>Hurricanes</td>\n",
       "      <td>https://a.espncdn.com/i/teamlogos/nhl/500/car.png</td>\n",
       "    </tr>\n",
       "    <tr>\n",
       "      <th>1</th>\n",
       "      <td>1</td>\n",
       "      <td>2022</td>\n",
       "      <td>CHI</td>\n",
       "      <td>1500000000</td>\n",
       "      <td>Blackhawks</td>\n",
       "      <td>https://a.espncdn.com/i/teamlogos/nhl/500/chi.png</td>\n",
       "    </tr>\n",
       "    <tr>\n",
       "      <th>2</th>\n",
       "      <td>2</td>\n",
       "      <td>2022</td>\n",
       "      <td>CBJ</td>\n",
       "      <td>620000000</td>\n",
       "      <td>Blue Jackets</td>\n",
       "      <td>https://a.espncdn.com/i/teamlogos/nhl/500/cbj.png</td>\n",
       "    </tr>\n",
       "    <tr>\n",
       "      <th>3</th>\n",
       "      <td>3</td>\n",
       "      <td>2022</td>\n",
       "      <td>DAL</td>\n",
       "      <td>925000000</td>\n",
       "      <td>Stars</td>\n",
       "      <td>https://a.espncdn.com/i/teamlogos/nhl/500/dal.png</td>\n",
       "    </tr>\n",
       "    <tr>\n",
       "      <th>4</th>\n",
       "      <td>4</td>\n",
       "      <td>2022</td>\n",
       "      <td>DET</td>\n",
       "      <td>1030000000</td>\n",
       "      <td>Red Wings</td>\n",
       "      <td>https://a.espncdn.com/i/teamlogos/nhl/500/det.png</td>\n",
       "    </tr>\n",
       "    <tr>\n",
       "      <th>...</th>\n",
       "      <td>...</td>\n",
       "      <td>...</td>\n",
       "      <td>...</td>\n",
       "      <td>...</td>\n",
       "      <td>...</td>\n",
       "      <td>...</td>\n",
       "    </tr>\n",
       "    <tr>\n",
       "      <th>88</th>\n",
       "      <td>91</td>\n",
       "      <td>2017</td>\n",
       "      <td>LAK</td>\n",
       "      <td>750000000</td>\n",
       "      <td>Kings</td>\n",
       "      <td>https://a.espncdn.com/i/teamlogos/nhl/500/la.png</td>\n",
       "    </tr>\n",
       "    <tr>\n",
       "      <th>89</th>\n",
       "      <td>92</td>\n",
       "      <td>2017</td>\n",
       "      <td>MIN</td>\n",
       "      <td>440000000</td>\n",
       "      <td>Wild</td>\n",
       "      <td>https://a.espncdn.com/i/teamlogos/nhl/500/min.png</td>\n",
       "    </tr>\n",
       "    <tr>\n",
       "      <th>90</th>\n",
       "      <td>93</td>\n",
       "      <td>2017</td>\n",
       "      <td>SJS</td>\n",
       "      <td>490000000</td>\n",
       "      <td>Sharks</td>\n",
       "      <td>https://a.espncdn.com/i/teamlogos/nhl/500/sj.png</td>\n",
       "    </tr>\n",
       "    <tr>\n",
       "      <th>91</th>\n",
       "      <td>94</td>\n",
       "      <td>2017</td>\n",
       "      <td>STL</td>\n",
       "      <td>450000000</td>\n",
       "      <td>Blues</td>\n",
       "      <td>https://a.espncdn.com/i/teamlogos/nhl/500/stl.png</td>\n",
       "    </tr>\n",
       "    <tr>\n",
       "      <th>92</th>\n",
       "      <td>95</td>\n",
       "      <td>2017</td>\n",
       "      <td>VGK</td>\n",
       "      <td>500000000</td>\n",
       "      <td>Golden Knights</td>\n",
       "      <td>https://a.espncdn.com/i/teamlogos/nhl/500/vgs.png</td>\n",
       "    </tr>\n",
       "  </tbody>\n",
       "</table>\n",
       "<p>93 rows × 6 columns</p>\n",
       "</div>"
      ],
      "text/plain": [
       "    Unnamed: 0  Year City   Valuation          Mascot  \\\n",
       "0            0  2022  CAR   640000000      Hurricanes   \n",
       "1            1  2022  CHI  1500000000      Blackhawks   \n",
       "2            2  2022  CBJ   620000000    Blue Jackets   \n",
       "3            3  2022  DAL   925000000           Stars   \n",
       "4            4  2022  DET  1030000000       Red Wings   \n",
       "..         ...   ...  ...         ...             ...   \n",
       "88          91  2017  LAK   750000000           Kings   \n",
       "89          92  2017  MIN   440000000            Wild   \n",
       "90          93  2017  SJS   490000000          Sharks   \n",
       "91          94  2017  STL   450000000           Blues   \n",
       "92          95  2017  VGK   500000000  Golden Knights   \n",
       "\n",
       "                                            espn_logo  \n",
       "0   https://a.espncdn.com/i/teamlogos/nhl/500/car.png  \n",
       "1   https://a.espncdn.com/i/teamlogos/nhl/500/chi.png  \n",
       "2   https://a.espncdn.com/i/teamlogos/nhl/500/cbj.png  \n",
       "3   https://a.espncdn.com/i/teamlogos/nhl/500/dal.png  \n",
       "4   https://a.espncdn.com/i/teamlogos/nhl/500/det.png  \n",
       "..                                                ...  \n",
       "88   https://a.espncdn.com/i/teamlogos/nhl/500/la.png  \n",
       "89  https://a.espncdn.com/i/teamlogos/nhl/500/min.png  \n",
       "90   https://a.espncdn.com/i/teamlogos/nhl/500/sj.png  \n",
       "91  https://a.espncdn.com/i/teamlogos/nhl/500/stl.png  \n",
       "92  https://a.espncdn.com/i/teamlogos/nhl/500/vgs.png  \n",
       "\n",
       "[93 rows x 6 columns]"
      ]
     },
     "execution_count": 31,
     "metadata": {},
     "output_type": "execute_result"
    }
   ],
   "source": [
    "worth"
   ]
  },
  {
   "cell_type": "code",
   "execution_count": 35,
   "id": "212bdaa6",
   "metadata": {},
   "outputs": [
    {
     "name": "stdout",
     "output_type": "stream",
     "text": [
      "<class 'pandas.core.frame.DataFrame'>\n",
      "RangeIndex: 93 entries, 0 to 92\n",
      "Data columns (total 6 columns):\n",
      " #   Column      Non-Null Count  Dtype \n",
      "---  ------      --------------  ----- \n",
      " 0   Unnamed: 0  93 non-null     int64 \n",
      " 1   Year        93 non-null     int64 \n",
      " 2   City        93 non-null     object\n",
      " 3   Valuation   93 non-null     object\n",
      " 4   Mascot      93 non-null     object\n",
      " 5   espn_logo   93 non-null     object\n",
      "dtypes: int64(2), object(4)\n",
      "memory usage: 4.5+ KB\n"
     ]
    }
   ],
   "source": [
    "worth.info()"
   ]
  },
  {
   "cell_type": "code",
   "execution_count": 32,
   "id": "8a4d86bd",
   "metadata": {},
   "outputs": [],
   "source": [
    "worth.drop(\"Unnamed: 0\", axis=1, inplace=True)"
   ]
  },
  {
   "cell_type": "code",
   "execution_count": 35,
   "id": "36ecda3e",
   "metadata": {},
   "outputs": [],
   "source": [
    "worth3 = worth.copy()"
   ]
  },
  {
   "cell_type": "code",
   "execution_count": 40,
   "id": "e437cdc9",
   "metadata": {},
   "outputs": [],
   "source": [
    "worth3[\"Valuation\"] = worth3[\"Valuation\"].astype(np.int64)"
   ]
  },
  {
   "cell_type": "code",
   "execution_count": 41,
   "id": "db7bab64",
   "metadata": {},
   "outputs": [
    {
     "name": "stdout",
     "output_type": "stream",
     "text": [
      "<class 'pandas.core.frame.DataFrame'>\n",
      "RangeIndex: 93 entries, 0 to 92\n",
      "Data columns (total 5 columns):\n",
      " #   Column     Non-Null Count  Dtype \n",
      "---  ------     --------------  ----- \n",
      " 0   Year       93 non-null     int64 \n",
      " 1   City       93 non-null     object\n",
      " 2   Valuation  93 non-null     int64 \n",
      " 3   Mascot     93 non-null     object\n",
      " 4   espn_logo  93 non-null     object\n",
      "dtypes: int64(2), object(3)\n",
      "memory usage: 3.8+ KB\n"
     ]
    }
   ],
   "source": [
    "worth3.info()"
   ]
  },
  {
   "cell_type": "code",
   "execution_count": 42,
   "id": "c0178011",
   "metadata": {},
   "outputs": [],
   "source": [
    "worth3[\"Yearly_Rank\"] = worth3.groupby(\"Year\")[\"Valuation\"].rank(ascending=False)"
   ]
  },
  {
   "cell_type": "code",
   "execution_count": 43,
   "id": "aa68738d",
   "metadata": {},
   "outputs": [],
   "source": [
    "worth3[\"Yearly_Rank\"] = worth3[\"Yearly_Rank\"].astype(int)"
   ]
  },
  {
   "cell_type": "code",
   "execution_count": 46,
   "id": "53b79661",
   "metadata": {},
   "outputs": [
    {
     "data": {
      "text/html": [
       "<div>\n",
       "<style scoped>\n",
       "    .dataframe tbody tr th:only-of-type {\n",
       "        vertical-align: middle;\n",
       "    }\n",
       "\n",
       "    .dataframe tbody tr th {\n",
       "        vertical-align: top;\n",
       "    }\n",
       "\n",
       "    .dataframe thead th {\n",
       "        text-align: right;\n",
       "    }\n",
       "</style>\n",
       "<table border=\"1\" class=\"dataframe\">\n",
       "  <thead>\n",
       "    <tr style=\"text-align: right;\">\n",
       "      <th></th>\n",
       "      <th>Year</th>\n",
       "      <th>City</th>\n",
       "      <th>Valuation</th>\n",
       "      <th>Mascot</th>\n",
       "      <th>espn_logo</th>\n",
       "      <th>Yearly_Rank</th>\n",
       "    </tr>\n",
       "  </thead>\n",
       "  <tbody>\n",
       "    <tr>\n",
       "      <th>52</th>\n",
       "      <td>2012</td>\n",
       "      <td>TOR</td>\n",
       "      <td>1000000000</td>\n",
       "      <td>Maple Leafs</td>\n",
       "      <td>https://a.espncdn.com/i/teamlogos/nhl/500/tor.png</td>\n",
       "      <td>1</td>\n",
       "    </tr>\n",
       "    <tr>\n",
       "      <th>43</th>\n",
       "      <td>2012</td>\n",
       "      <td>NYR</td>\n",
       "      <td>750000000</td>\n",
       "      <td>Rangers</td>\n",
       "      <td>https://a.espncdn.com/i/teamlogos/nhl/500/nyr.png</td>\n",
       "      <td>2</td>\n",
       "    </tr>\n",
       "    <tr>\n",
       "      <th>50</th>\n",
       "      <td>2012</td>\n",
       "      <td>MTL</td>\n",
       "      <td>575000000</td>\n",
       "      <td>Canadiens</td>\n",
       "      <td>https://a.espncdn.com/i/teamlogos/nhl/500/mtl.png</td>\n",
       "      <td>3</td>\n",
       "    </tr>\n",
       "    <tr>\n",
       "      <th>33</th>\n",
       "      <td>2012</td>\n",
       "      <td>CHI</td>\n",
       "      <td>350000000</td>\n",
       "      <td>Blackhawks</td>\n",
       "      <td>https://a.espncdn.com/i/teamlogos/nhl/500/chi.png</td>\n",
       "      <td>4</td>\n",
       "    </tr>\n",
       "    <tr>\n",
       "      <th>40</th>\n",
       "      <td>2012</td>\n",
       "      <td>BOS</td>\n",
       "      <td>348000000</td>\n",
       "      <td>Bruins</td>\n",
       "      <td>https://a.espncdn.com/i/teamlogos/nhl/500/bos.png</td>\n",
       "      <td>5</td>\n",
       "    </tr>\n",
       "    <tr>\n",
       "      <th>36</th>\n",
       "      <td>2012</td>\n",
       "      <td>DET</td>\n",
       "      <td>346000000</td>\n",
       "      <td>Red Wings</td>\n",
       "      <td>https://a.espncdn.com/i/teamlogos/nhl/500/det.png</td>\n",
       "      <td>6</td>\n",
       "    </tr>\n",
       "    <tr>\n",
       "      <th>53</th>\n",
       "      <td>2012</td>\n",
       "      <td>VAN</td>\n",
       "      <td>342000000</td>\n",
       "      <td>Canucks</td>\n",
       "      <td>https://a.espncdn.com/i/teamlogos/nhl/500/van.png</td>\n",
       "      <td>7</td>\n",
       "    </tr>\n",
       "    <tr>\n",
       "      <th>45</th>\n",
       "      <td>2012</td>\n",
       "      <td>PHI</td>\n",
       "      <td>336000000</td>\n",
       "      <td>Flyers</td>\n",
       "      <td>https://a.espncdn.com/i/teamlogos/nhl/500/phi.png</td>\n",
       "      <td>8</td>\n",
       "    </tr>\n",
       "    <tr>\n",
       "      <th>46</th>\n",
       "      <td>2012</td>\n",
       "      <td>PIT</td>\n",
       "      <td>288000000</td>\n",
       "      <td>Penguins</td>\n",
       "      <td>https://a.espncdn.com/i/teamlogos/nhl/500/pit.png</td>\n",
       "      <td>9</td>\n",
       "    </tr>\n",
       "    <tr>\n",
       "      <th>58</th>\n",
       "      <td>2012</td>\n",
       "      <td>LAK</td>\n",
       "      <td>276000000</td>\n",
       "      <td>Kings</td>\n",
       "      <td>https://a.espncdn.com/i/teamlogos/nhl/500/la.png</td>\n",
       "      <td>10</td>\n",
       "    </tr>\n",
       "    <tr>\n",
       "      <th>47</th>\n",
       "      <td>2012</td>\n",
       "      <td>WSH</td>\n",
       "      <td>250000000</td>\n",
       "      <td>Capitals</td>\n",
       "      <td>https://a.espncdn.com/i/teamlogos/nhl/500/wsh.png</td>\n",
       "      <td>11</td>\n",
       "    </tr>\n",
       "    <tr>\n",
       "      <th>48</th>\n",
       "      <td>2012</td>\n",
       "      <td>CAL</td>\n",
       "      <td>245000000</td>\n",
       "      <td>Flames</td>\n",
       "      <td>https://a.espncdn.com/i/teamlogos/nhl/500/cgy.png</td>\n",
       "      <td>12</td>\n",
       "    </tr>\n",
       "    <tr>\n",
       "      <th>35</th>\n",
       "      <td>2012</td>\n",
       "      <td>DAL</td>\n",
       "      <td>240000000</td>\n",
       "      <td>Stars</td>\n",
       "      <td>https://a.espncdn.com/i/teamlogos/nhl/500/dal.png</td>\n",
       "      <td>13</td>\n",
       "    </tr>\n",
       "    <tr>\n",
       "      <th>49</th>\n",
       "      <td>2012</td>\n",
       "      <td>EDM</td>\n",
       "      <td>225000000</td>\n",
       "      <td>Oilers</td>\n",
       "      <td>https://a.espncdn.com/i/teamlogos/nhl/500/edm.png</td>\n",
       "      <td>14</td>\n",
       "    </tr>\n",
       "    <tr>\n",
       "      <th>60</th>\n",
       "      <td>2012</td>\n",
       "      <td>SJS</td>\n",
       "      <td>223000000</td>\n",
       "      <td>Sharks</td>\n",
       "      <td>https://a.espncdn.com/i/teamlogos/nhl/500/sj.png</td>\n",
       "      <td>15</td>\n",
       "    </tr>\n",
       "    <tr>\n",
       "      <th>51</th>\n",
       "      <td>2012</td>\n",
       "      <td>OTT</td>\n",
       "      <td>220000000</td>\n",
       "      <td>Senators</td>\n",
       "      <td>https://a.espncdn.com/i/teamlogos/nhl/500/ott.png</td>\n",
       "      <td>16</td>\n",
       "    </tr>\n",
       "    <tr>\n",
       "      <th>59</th>\n",
       "      <td>2012</td>\n",
       "      <td>MIN</td>\n",
       "      <td>218000000</td>\n",
       "      <td>Wild</td>\n",
       "      <td>https://a.espncdn.com/i/teamlogos/nhl/500/min.png</td>\n",
       "      <td>17</td>\n",
       "    </tr>\n",
       "    <tr>\n",
       "      <th>57</th>\n",
       "      <td>2012</td>\n",
       "      <td>COL</td>\n",
       "      <td>210000000</td>\n",
       "      <td>Avalanche</td>\n",
       "      <td>https://a.espncdn.com/i/teamlogos/nhl/500/col.png</td>\n",
       "      <td>18</td>\n",
       "    </tr>\n",
       "    <tr>\n",
       "      <th>42</th>\n",
       "      <td>2012</td>\n",
       "      <td>NJD</td>\n",
       "      <td>205000000</td>\n",
       "      <td>Devils</td>\n",
       "      <td>https://a.espncdn.com/i/teamlogos/nhl/500/nj.png</td>\n",
       "      <td>19</td>\n",
       "    </tr>\n",
       "    <tr>\n",
       "      <th>54</th>\n",
       "      <td>2012</td>\n",
       "      <td>WPG</td>\n",
       "      <td>200000000</td>\n",
       "      <td>Jets</td>\n",
       "      <td>https://a.espncdn.com/i/teamlogos/nhl/500/wpg.png</td>\n",
       "      <td>20</td>\n",
       "    </tr>\n",
       "    <tr>\n",
       "      <th>55</th>\n",
       "      <td>2012</td>\n",
       "      <td>ANA</td>\n",
       "      <td>192000000</td>\n",
       "      <td>Ducks</td>\n",
       "      <td>https://a.espncdn.com/i/teamlogos/nhl/500/ana.png</td>\n",
       "      <td>21</td>\n",
       "    </tr>\n",
       "    <tr>\n",
       "      <th>41</th>\n",
       "      <td>2012</td>\n",
       "      <td>BUF</td>\n",
       "      <td>175000000</td>\n",
       "      <td>Sabres</td>\n",
       "      <td>https://a.espncdn.com/i/teamlogos/nhl/500/buf.png</td>\n",
       "      <td>22</td>\n",
       "    </tr>\n",
       "    <tr>\n",
       "      <th>39</th>\n",
       "      <td>2012</td>\n",
       "      <td>TBL</td>\n",
       "      <td>174000000</td>\n",
       "      <td>Lightning</td>\n",
       "      <td>https://a.espncdn.com/i/teamlogos/nhl/500/tb.png</td>\n",
       "      <td>23</td>\n",
       "    </tr>\n",
       "    <tr>\n",
       "      <th>37</th>\n",
       "      <td>2012</td>\n",
       "      <td>FLA</td>\n",
       "      <td>170000000</td>\n",
       "      <td>Panthers</td>\n",
       "      <td>https://a.espncdn.com/i/teamlogos/nhl/500/fla.png</td>\n",
       "      <td>24</td>\n",
       "    </tr>\n",
       "    <tr>\n",
       "      <th>38</th>\n",
       "      <td>2012</td>\n",
       "      <td>NSH</td>\n",
       "      <td>167000000</td>\n",
       "      <td>Predators</td>\n",
       "      <td>https://a.espncdn.com/i/teamlogos/nhl/500/nsh.png</td>\n",
       "      <td>25</td>\n",
       "    </tr>\n",
       "    <tr>\n",
       "      <th>32</th>\n",
       "      <td>2012</td>\n",
       "      <td>CAR</td>\n",
       "      <td>162000000</td>\n",
       "      <td>Hurricanes</td>\n",
       "      <td>https://a.espncdn.com/i/teamlogos/nhl/500/car.png</td>\n",
       "      <td>26</td>\n",
       "    </tr>\n",
       "    <tr>\n",
       "      <th>44</th>\n",
       "      <td>2012</td>\n",
       "      <td>NYI</td>\n",
       "      <td>155000000</td>\n",
       "      <td>Islanders</td>\n",
       "      <td>https://a.espncdn.com/i/teamlogos/nhl/500/nyi.png</td>\n",
       "      <td>27</td>\n",
       "    </tr>\n",
       "    <tr>\n",
       "      <th>34</th>\n",
       "      <td>2012</td>\n",
       "      <td>CBJ</td>\n",
       "      <td>145000000</td>\n",
       "      <td>Blue Jackets</td>\n",
       "      <td>https://a.espncdn.com/i/teamlogos/nhl/500/cbj.png</td>\n",
       "      <td>28</td>\n",
       "    </tr>\n",
       "    <tr>\n",
       "      <th>56</th>\n",
       "      <td>2012</td>\n",
       "      <td>ARI</td>\n",
       "      <td>134000000</td>\n",
       "      <td>Coyotes</td>\n",
       "      <td>https://a.espncdn.com/i/teamlogos/nhl/500/ari.png</td>\n",
       "      <td>29</td>\n",
       "    </tr>\n",
       "    <tr>\n",
       "      <th>61</th>\n",
       "      <td>2012</td>\n",
       "      <td>STL</td>\n",
       "      <td>130000000</td>\n",
       "      <td>Blues</td>\n",
       "      <td>https://a.espncdn.com/i/teamlogos/nhl/500/stl.png</td>\n",
       "      <td>30</td>\n",
       "    </tr>\n",
       "  </tbody>\n",
       "</table>\n",
       "</div>"
      ],
      "text/plain": [
       "    Year City   Valuation        Mascot  \\\n",
       "52  2012  TOR  1000000000   Maple Leafs   \n",
       "43  2012  NYR   750000000       Rangers   \n",
       "50  2012  MTL   575000000     Canadiens   \n",
       "33  2012  CHI   350000000    Blackhawks   \n",
       "40  2012  BOS   348000000        Bruins   \n",
       "36  2012  DET   346000000     Red Wings   \n",
       "53  2012  VAN   342000000       Canucks   \n",
       "45  2012  PHI   336000000        Flyers   \n",
       "46  2012  PIT   288000000      Penguins   \n",
       "58  2012  LAK   276000000         Kings   \n",
       "47  2012  WSH   250000000      Capitals   \n",
       "48  2012  CAL   245000000        Flames   \n",
       "35  2012  DAL   240000000         Stars   \n",
       "49  2012  EDM   225000000        Oilers   \n",
       "60  2012  SJS   223000000        Sharks   \n",
       "51  2012  OTT   220000000      Senators   \n",
       "59  2012  MIN   218000000          Wild   \n",
       "57  2012  COL   210000000     Avalanche   \n",
       "42  2012  NJD   205000000        Devils   \n",
       "54  2012  WPG   200000000          Jets   \n",
       "55  2012  ANA   192000000         Ducks   \n",
       "41  2012  BUF   175000000        Sabres   \n",
       "39  2012  TBL   174000000     Lightning   \n",
       "37  2012  FLA   170000000      Panthers   \n",
       "38  2012  NSH   167000000     Predators   \n",
       "32  2012  CAR   162000000    Hurricanes   \n",
       "44  2012  NYI   155000000     Islanders   \n",
       "34  2012  CBJ   145000000  Blue Jackets   \n",
       "56  2012  ARI   134000000       Coyotes   \n",
       "61  2012  STL   130000000         Blues   \n",
       "\n",
       "                                            espn_logo  Yearly_Rank  \n",
       "52  https://a.espncdn.com/i/teamlogos/nhl/500/tor.png            1  \n",
       "43  https://a.espncdn.com/i/teamlogos/nhl/500/nyr.png            2  \n",
       "50  https://a.espncdn.com/i/teamlogos/nhl/500/mtl.png            3  \n",
       "33  https://a.espncdn.com/i/teamlogos/nhl/500/chi.png            4  \n",
       "40  https://a.espncdn.com/i/teamlogos/nhl/500/bos.png            5  \n",
       "36  https://a.espncdn.com/i/teamlogos/nhl/500/det.png            6  \n",
       "53  https://a.espncdn.com/i/teamlogos/nhl/500/van.png            7  \n",
       "45  https://a.espncdn.com/i/teamlogos/nhl/500/phi.png            8  \n",
       "46  https://a.espncdn.com/i/teamlogos/nhl/500/pit.png            9  \n",
       "58   https://a.espncdn.com/i/teamlogos/nhl/500/la.png           10  \n",
       "47  https://a.espncdn.com/i/teamlogos/nhl/500/wsh.png           11  \n",
       "48  https://a.espncdn.com/i/teamlogos/nhl/500/cgy.png           12  \n",
       "35  https://a.espncdn.com/i/teamlogos/nhl/500/dal.png           13  \n",
       "49  https://a.espncdn.com/i/teamlogos/nhl/500/edm.png           14  \n",
       "60   https://a.espncdn.com/i/teamlogos/nhl/500/sj.png           15  \n",
       "51  https://a.espncdn.com/i/teamlogos/nhl/500/ott.png           16  \n",
       "59  https://a.espncdn.com/i/teamlogos/nhl/500/min.png           17  \n",
       "57  https://a.espncdn.com/i/teamlogos/nhl/500/col.png           18  \n",
       "42   https://a.espncdn.com/i/teamlogos/nhl/500/nj.png           19  \n",
       "54  https://a.espncdn.com/i/teamlogos/nhl/500/wpg.png           20  \n",
       "55  https://a.espncdn.com/i/teamlogos/nhl/500/ana.png           21  \n",
       "41  https://a.espncdn.com/i/teamlogos/nhl/500/buf.png           22  \n",
       "39   https://a.espncdn.com/i/teamlogos/nhl/500/tb.png           23  \n",
       "37  https://a.espncdn.com/i/teamlogos/nhl/500/fla.png           24  \n",
       "38  https://a.espncdn.com/i/teamlogos/nhl/500/nsh.png           25  \n",
       "32  https://a.espncdn.com/i/teamlogos/nhl/500/car.png           26  \n",
       "44  https://a.espncdn.com/i/teamlogos/nhl/500/nyi.png           27  \n",
       "34  https://a.espncdn.com/i/teamlogos/nhl/500/cbj.png           28  \n",
       "56  https://a.espncdn.com/i/teamlogos/nhl/500/ari.png           29  \n",
       "61  https://a.espncdn.com/i/teamlogos/nhl/500/stl.png           30  "
      ]
     },
     "execution_count": 46,
     "metadata": {},
     "output_type": "execute_result"
    }
   ],
   "source": [
    "worth3[worth3[\"Year\"] == 2012].sort_values(\"Yearly_Rank\")"
   ]
  },
  {
   "cell_type": "code",
   "execution_count": 47,
   "id": "e629e9e0",
   "metadata": {},
   "outputs": [],
   "source": [
    "worth3.to_csv(\"Valuation2.csv\")"
   ]
  },
  {
   "cell_type": "code",
   "execution_count": 49,
   "id": "d846be7d",
   "metadata": {},
   "outputs": [],
   "source": [
    "worth4 = worth3.copy()"
   ]
  },
  {
   "cell_type": "code",
   "execution_count": 63,
   "id": "80455240",
   "metadata": {},
   "outputs": [],
   "source": [
    "worth4[\"previous_value_2\"] = worth4.groupby(\"City\")[\"Valuation\"].shift(-1)"
   ]
  },
  {
   "cell_type": "code",
   "execution_count": 3,
   "id": "71ae1819",
   "metadata": {},
   "outputs": [],
   "source": [
    "valuations = pd.read_csv(\"Valuation2.csv\")"
   ]
  },
  {
   "cell_type": "code",
   "execution_count": 5,
   "id": "665e94b8",
   "metadata": {},
   "outputs": [],
   "source": [
    "valuations.drop(\"Unnamed: 0\", axis=1, inplace=True)"
   ]
  },
  {
   "cell_type": "code",
   "execution_count": 7,
   "id": "6b0aa1bf",
   "metadata": {},
   "outputs": [],
   "source": [
    "valuations2 = valuations.copy()"
   ]
  },
  {
   "cell_type": "code",
   "execution_count": 10,
   "id": "eec8c51d",
   "metadata": {},
   "outputs": [],
   "source": [
    "valuations2 = valuations2.sort_values(\"Year\", ascending=False)"
   ]
  },
  {
   "cell_type": "code",
   "execution_count": 14,
   "id": "87e3116d",
   "metadata": {},
   "outputs": [],
   "source": [
    "valuations2[\"previous_valuation2\"] = valuations2.groupby(\"City\")[\"Valuation\"].shift(-1)"
   ]
  },
  {
   "cell_type": "code",
   "execution_count": 19,
   "id": "c3ce2d31",
   "metadata": {},
   "outputs": [],
   "source": [
    "valuations2[\"previous_valuation2\"] = valuations2[\"previous_valuation2\"].astype(np.int64)"
   ]
  },
  {
   "cell_type": "code",
   "execution_count": 18,
   "id": "08261ca9",
   "metadata": {},
   "outputs": [],
   "source": [
    "valuations2[\"previous_valuation2\"] = valuations2[\"previous_valuation2\"].fillna(0)"
   ]
  },
  {
   "cell_type": "code",
   "execution_count": 21,
   "id": "400bb3f3",
   "metadata": {},
   "outputs": [],
   "source": [
    "valuations2.drop(\"previous_valuation\",axis=1, inplace=True)"
   ]
  },
  {
   "cell_type": "code",
   "execution_count": 26,
   "id": "746397f3",
   "metadata": {},
   "outputs": [],
   "source": [
    "valuations3 = valuations2.copy()"
   ]
  },
  {
   "cell_type": "code",
   "execution_count": 28,
   "id": "7c601801",
   "metadata": {},
   "outputs": [],
   "source": [
    "valuations3[\"5_Year_Change\"] = (valuations3[\"Valuation\"] - valuations3[\"previous_valuation2\"])/valuations3[\"previous_valuation2\"]\n",
    "        "
   ]
  },
  {
   "cell_type": "code",
   "execution_count": 37,
   "id": "68e7be97",
   "metadata": {},
   "outputs": [
    {
     "ename": "NameError",
     "evalue": "name 'inf' is not defined",
     "output_type": "error",
     "traceback": [
      "\u001b[1;31m---------------------------------------------------------------------------\u001b[0m",
      "\u001b[1;31mNameError\u001b[0m                                 Traceback (most recent call last)",
      "\u001b[1;32m<ipython-input-37-d71fb6c601b9>\u001b[0m in \u001b[0;36m<module>\u001b[1;34m\u001b[0m\n\u001b[1;32m----> 1\u001b[1;33m \u001b[0mvaluations3\u001b[0m\u001b[1;33m[\u001b[0m\u001b[1;34m\"5_Year_Change\"\u001b[0m\u001b[1;33m]\u001b[0m \u001b[1;33m=\u001b[0m \u001b[0mvaluations3\u001b[0m\u001b[1;33m[\u001b[0m\u001b[1;34m\"5_Year_Change\"\u001b[0m\u001b[1;33m]\u001b[0m\u001b[1;33m.\u001b[0m\u001b[0mreplace\u001b[0m\u001b[1;33m(\u001b[0m\u001b[0minf\u001b[0m\u001b[1;33m,\u001b[0m \u001b[1;36m0\u001b[0m\u001b[1;33m)\u001b[0m\u001b[1;33m\u001b[0m\u001b[1;33m\u001b[0m\u001b[0m\n\u001b[0m",
      "\u001b[1;31mNameError\u001b[0m: name 'inf' is not defined"
     ]
    }
   ],
   "source": [
    "valuations3[\"5_Year_Change\"] = valuations3[\"5_Year_Change\"].replace(inf, 0)"
   ]
  },
  {
   "cell_type": "code",
   "execution_count": 39,
   "id": "46de5a8c",
   "metadata": {},
   "outputs": [],
   "source": [
    "valuations3[\"5_Year_Change\"] = (valuations3[\"5_Year_Change\"] * 100).round(2)"
   ]
  },
  {
   "cell_type": "code",
   "execution_count": 41,
   "id": "6b74f305",
   "metadata": {},
   "outputs": [],
   "source": [
    "valuations4 = valuations3.copy()"
   ]
  },
  {
   "cell_type": "code",
   "execution_count": 42,
   "id": "13384b32",
   "metadata": {},
   "outputs": [],
   "source": [
    "valuations4.replace([np.inf, -np.inf], np.nan, inplace=True)"
   ]
  },
  {
   "cell_type": "code",
   "execution_count": 44,
   "id": "987c1f3c",
   "metadata": {},
   "outputs": [],
   "source": [
    "valuations4.to_csv(\"NHL_Valuations.csv\")"
   ]
  },
  {
   "cell_type": "code",
   "execution_count": 1,
   "id": "cf5eb668",
   "metadata": {},
   "outputs": [],
   "source": [
    "import numpy as np\n",
    "import pandas as pd\n",
    "\n",
    "value_df = pd.read_csv(\"NHL_Valuations.csv\")"
   ]
  },
  {
   "cell_type": "code",
   "execution_count": 3,
   "id": "bdec961f",
   "metadata": {},
   "outputs": [],
   "source": [
    "value_df[\"Growth Rank\"] = value_df.groupby(\"Year\")[\"5_Year_Change\"].rank(method=\"min\", ascending=False)"
   ]
  },
  {
   "cell_type": "code",
   "execution_count": 5,
   "id": "20224eff",
   "metadata": {},
   "outputs": [],
   "source": [
    "value_df.to_csv(\"NHL_Valuations2.csv\")"
   ]
  }
 ],
 "metadata": {
  "kernelspec": {
   "display_name": "Python 3",
   "language": "python",
   "name": "python3"
  },
  "language_info": {
   "codemirror_mode": {
    "name": "ipython",
    "version": 3
   },
   "file_extension": ".py",
   "mimetype": "text/x-python",
   "name": "python",
   "nbconvert_exporter": "python",
   "pygments_lexer": "ipython3",
   "version": "3.8.8"
  }
 },
 "nbformat": 4,
 "nbformat_minor": 5
}
